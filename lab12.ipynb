{
 "cells": [
  {
   "metadata": {},
   "cell_type": "markdown",
   "source": [
    "Лаборатрна робота 12\n",
    "\n",
    "\n",
    "1. Завантаження та підготовка даних"
   ],
   "id": "c2dfd36e5b304137"
  },
  {
   "cell_type": "code",
   "id": "initial_id",
   "metadata": {
    "collapsed": true,
    "ExecuteTime": {
     "end_time": "2024-11-26T14:56:02.017001Z",
     "start_time": "2024-11-26T14:56:01.481234Z"
    }
   },
   "source": [
    "import kagglehub\n",
    "\n",
    "# Download latest version\n",
    "path = kagglehub.dataset_download(\"thedevastator/netflix-imdb-scores\")\n",
    "\n",
    "print(\"Path to dataset files:\", path)"
   ],
   "outputs": [
    {
     "name": "stdout",
     "output_type": "stream",
     "text": [
      "Path to dataset files: C:\\Users\\Lenovo Legion 5\\.cache\\kagglehub\\datasets\\thedevastator\\netflix-imdb-scores\\versions\\2\n"
     ]
    }
   ],
   "execution_count": 134
  },
  {
   "metadata": {
    "ExecuteTime": {
     "end_time": "2024-11-26T14:56:03.139312Z",
     "start_time": "2024-11-26T14:56:03.090001Z"
    }
   },
   "cell_type": "code",
   "source": [
    "import pandas as pd\n",
    "\n",
    "# Завантажуємо датасет\n",
    "file_path = r'C:\\Users\\Lenovo Legion 5\\.cache\\kagglehub\\datasets\\thedevastator\\netflix-imdb-scores\\versions\\2\\Netflix TV Shows and Movies.csv'\n",
    "df = pd.read_csv(file_path)\n",
    "\n",
    "# Переглянемо структуру даних\n",
    "df.head()\n"
   ],
   "id": "779358d0af06ca2e",
   "outputs": [
    {
     "data": {
      "text/plain": [
       "   index        id                            title   type  \\\n",
       "0      0   tm84618                      Taxi Driver  MOVIE   \n",
       "1      1  tm127384  Monty Python and the Holy Grail  MOVIE   \n",
       "2      2   tm70993                    Life of Brian  MOVIE   \n",
       "3      3  tm190788                     The Exorcist  MOVIE   \n",
       "4      4   ts22164     Monty Python's Flying Circus   SHOW   \n",
       "\n",
       "                                         description  release_year  \\\n",
       "0  A mentally unstable Vietnam War veteran works ...          1976   \n",
       "1  King Arthur, accompanied by his squire, recrui...          1975   \n",
       "2  Brian Cohen is an average young Jewish man, bu...          1979   \n",
       "3  12-year-old Regan MacNeil begins to adapt an e...          1973   \n",
       "4  A British sketch comedy series with the shows ...          1969   \n",
       "\n",
       "  age_certification  runtime    imdb_id  imdb_score  imdb_votes  \n",
       "0                 R      113  tt0075314         8.3    795222.0  \n",
       "1                PG       91  tt0071853         8.2    530877.0  \n",
       "2                 R       94  tt0079470         8.0    392419.0  \n",
       "3                 R      133  tt0070047         8.1    391942.0  \n",
       "4             TV-14       30  tt0063929         8.8     72895.0  "
      ],
      "text/html": [
       "<div>\n",
       "<style scoped>\n",
       "    .dataframe tbody tr th:only-of-type {\n",
       "        vertical-align: middle;\n",
       "    }\n",
       "\n",
       "    .dataframe tbody tr th {\n",
       "        vertical-align: top;\n",
       "    }\n",
       "\n",
       "    .dataframe thead th {\n",
       "        text-align: right;\n",
       "    }\n",
       "</style>\n",
       "<table border=\"1\" class=\"dataframe\">\n",
       "  <thead>\n",
       "    <tr style=\"text-align: right;\">\n",
       "      <th></th>\n",
       "      <th>index</th>\n",
       "      <th>id</th>\n",
       "      <th>title</th>\n",
       "      <th>type</th>\n",
       "      <th>description</th>\n",
       "      <th>release_year</th>\n",
       "      <th>age_certification</th>\n",
       "      <th>runtime</th>\n",
       "      <th>imdb_id</th>\n",
       "      <th>imdb_score</th>\n",
       "      <th>imdb_votes</th>\n",
       "    </tr>\n",
       "  </thead>\n",
       "  <tbody>\n",
       "    <tr>\n",
       "      <th>0</th>\n",
       "      <td>0</td>\n",
       "      <td>tm84618</td>\n",
       "      <td>Taxi Driver</td>\n",
       "      <td>MOVIE</td>\n",
       "      <td>A mentally unstable Vietnam War veteran works ...</td>\n",
       "      <td>1976</td>\n",
       "      <td>R</td>\n",
       "      <td>113</td>\n",
       "      <td>tt0075314</td>\n",
       "      <td>8.3</td>\n",
       "      <td>795222.0</td>\n",
       "    </tr>\n",
       "    <tr>\n",
       "      <th>1</th>\n",
       "      <td>1</td>\n",
       "      <td>tm127384</td>\n",
       "      <td>Monty Python and the Holy Grail</td>\n",
       "      <td>MOVIE</td>\n",
       "      <td>King Arthur, accompanied by his squire, recrui...</td>\n",
       "      <td>1975</td>\n",
       "      <td>PG</td>\n",
       "      <td>91</td>\n",
       "      <td>tt0071853</td>\n",
       "      <td>8.2</td>\n",
       "      <td>530877.0</td>\n",
       "    </tr>\n",
       "    <tr>\n",
       "      <th>2</th>\n",
       "      <td>2</td>\n",
       "      <td>tm70993</td>\n",
       "      <td>Life of Brian</td>\n",
       "      <td>MOVIE</td>\n",
       "      <td>Brian Cohen is an average young Jewish man, bu...</td>\n",
       "      <td>1979</td>\n",
       "      <td>R</td>\n",
       "      <td>94</td>\n",
       "      <td>tt0079470</td>\n",
       "      <td>8.0</td>\n",
       "      <td>392419.0</td>\n",
       "    </tr>\n",
       "    <tr>\n",
       "      <th>3</th>\n",
       "      <td>3</td>\n",
       "      <td>tm190788</td>\n",
       "      <td>The Exorcist</td>\n",
       "      <td>MOVIE</td>\n",
       "      <td>12-year-old Regan MacNeil begins to adapt an e...</td>\n",
       "      <td>1973</td>\n",
       "      <td>R</td>\n",
       "      <td>133</td>\n",
       "      <td>tt0070047</td>\n",
       "      <td>8.1</td>\n",
       "      <td>391942.0</td>\n",
       "    </tr>\n",
       "    <tr>\n",
       "      <th>4</th>\n",
       "      <td>4</td>\n",
       "      <td>ts22164</td>\n",
       "      <td>Monty Python's Flying Circus</td>\n",
       "      <td>SHOW</td>\n",
       "      <td>A British sketch comedy series with the shows ...</td>\n",
       "      <td>1969</td>\n",
       "      <td>TV-14</td>\n",
       "      <td>30</td>\n",
       "      <td>tt0063929</td>\n",
       "      <td>8.8</td>\n",
       "      <td>72895.0</td>\n",
       "    </tr>\n",
       "  </tbody>\n",
       "</table>\n",
       "</div>"
      ]
     },
     "execution_count": 135,
     "metadata": {},
     "output_type": "execute_result"
    }
   ],
   "execution_count": 135
  },
  {
   "metadata": {},
   "cell_type": "markdown",
   "source": [
    "2. Попередня обробка тексту\n",
    "\n",
    "а) Токенізація, очищення та приведення тексту до нижнього регістру"
   ],
   "id": "5041c9d9720d27f2"
  },
  {
   "metadata": {
    "ExecuteTime": {
     "end_time": "2024-11-26T14:56:07.983425Z",
     "start_time": "2024-11-26T14:56:06.356817Z"
    }
   },
   "cell_type": "code",
   "source": [
    "import nltk\n",
    "import string\n",
    "from nltk.corpus import stopwords\n",
    "from nltk.tokenize import word_tokenize\n",
    "\n",
    "# Завантажуємо стоп-слова\n",
    "nltk.download('punkt')\n",
    "nltk.download('stopwords')\n",
    "\n",
    "# Очищаємо текст\n",
    "def clean_text(text):\n",
    "    # Перевіряємо, чи є значення текстом\n",
    "    if isinstance(text, str):\n",
    "        # Перетворюємо текст на нижній регістр\n",
    "        text = text.lower()\n",
    "        \n",
    "        # Видаляємо пунктуацію\n",
    "        text = ''.join([char for char in text if char not in string.punctuation])\n",
    "        \n",
    "        # Токенізація\n",
    "        tokens = word_tokenize(text)\n",
    "        \n",
    "        # Видаляємо стоп-слова\n",
    "        stop_words = set(stopwords.words('english'))\n",
    "        tokens = [word for word in tokens if word not in stop_words]\n",
    "        \n",
    "        return ' '.join(tokens)\n",
    "    else:\n",
    "        # Якщо значення не рядок, повертаємо порожній рядок\n",
    "        return ''\n",
    "\n",
    "\n",
    "# Застосуємо функцію до описів\n",
    "df['cleaned_description'] = df['description'].apply(clean_text)\n",
    "\n"
   ],
   "id": "a03dd792cee00b2",
   "outputs": [
    {
     "name": "stderr",
     "output_type": "stream",
     "text": [
      "[nltk_data] Downloading package punkt to C:\\Users\\Lenovo Legion\n",
      "[nltk_data]     5\\AppData\\Roaming\\nltk_data...\n",
      "[nltk_data]   Package punkt is already up-to-date!\n",
      "[nltk_data] Downloading package stopwords to C:\\Users\\Lenovo Legion\n",
      "[nltk_data]     5\\AppData\\Roaming\\nltk_data...\n",
      "[nltk_data]   Package stopwords is already up-to-date!\n"
     ]
    }
   ],
   "execution_count": 136
  },
  {
   "metadata": {},
   "cell_type": "markdown",
   "source": "б) Лемматизація",
   "id": "b0fa8caf22317a48"
  },
  {
   "metadata": {
    "ExecuteTime": {
     "end_time": "2024-11-26T14:56:10.144112Z",
     "start_time": "2024-11-26T14:56:09.700079Z"
    }
   },
   "cell_type": "code",
   "source": [
    "from nltk.stem import WordNetLemmatizer\n",
    "\n",
    "# Завантажуємо необхідні ресурси для лемматизації\n",
    "nltk.download('wordnet')\n",
    "\n",
    "lemmatizer = WordNetLemmatizer()\n",
    "\n",
    "def lemmatize_text(text):\n",
    "    tokens = text.split()\n",
    "    lemmatized_text = [lemmatizer.lemmatize(word) for word in tokens]\n",
    "    return ' '.join(lemmatized_text)\n",
    "\n",
    "# Застосуємо лемматизацію\n",
    "df['lemmatized_description'] = df['cleaned_description'].apply(lemmatize_text)\n"
   ],
   "id": "fdeecf733ea20b76",
   "outputs": [
    {
     "name": "stderr",
     "output_type": "stream",
     "text": [
      "[nltk_data] Downloading package wordnet to C:\\Users\\Lenovo Legion\n",
      "[nltk_data]     5\\AppData\\Roaming\\nltk_data...\n",
      "[nltk_data]   Package wordnet is already up-to-date!\n"
     ]
    }
   ],
   "execution_count": 137
  },
  {
   "metadata": {},
   "cell_type": "markdown",
   "source": "3. Векторизація тексту",
   "id": "cda3077dcd8a6f20"
  },
  {
   "metadata": {
    "ExecuteTime": {
     "end_time": "2024-11-26T14:56:11.872204Z",
     "start_time": "2024-11-26T14:56:11.717338Z"
    }
   },
   "cell_type": "code",
   "source": [
    "from sklearn.feature_extraction.text import TfidfVectorizer\n",
    "\n",
    "# Використовуємо TF-IDF для векторизації\n",
    "vectorizer = TfidfVectorizer(max_features=5000)\n",
    "\n",
    "# Трансформуємо опис в числові вектори\n",
    "X = vectorizer.fit_transform(df['lemmatized_description'])\n",
    "\n",
    "# Перевіримо розмір векторів\n",
    "print(X.shape)\n"
   ],
   "id": "54169055f07479fa",
   "outputs": [
    {
     "name": "stdout",
     "output_type": "stream",
     "text": [
      "(5283, 5000)\n"
     ]
    }
   ],
   "execution_count": 138
  },
  {
   "metadata": {},
   "cell_type": "markdown",
   "source": "4. Класифікація тексту",
   "id": "515dd158f2dae61"
  },
  {
   "metadata": {
    "ExecuteTime": {
     "end_time": "2024-11-26T14:56:14.005968Z",
     "start_time": "2024-11-26T14:56:13.995175Z"
    }
   },
   "cell_type": "code",
   "source": [
    "# Створення мітки на основі imdb_score\n",
    "df['label'] = df['imdb_score'].apply(lambda x: 1 if x >= 6.6 else 0)\n",
    "\n",
    "# Розбиваємо на тренувальний та тестовий набори\n",
    "from sklearn.model_selection import train_test_split\n",
    "\n",
    "X_train, X_test, y_train, y_test = train_test_split(X, df['label'], test_size=0.2, random_state=42)\n"
   ],
   "id": "c1f3934240aa31dc",
   "outputs": [],
   "execution_count": 139
  },
  {
   "metadata": {},
   "cell_type": "markdown",
   "source": "Навчання наївного баєсового класифікатора",
   "id": "7437b0e3c0969db8"
  },
  {
   "metadata": {
    "ExecuteTime": {
     "end_time": "2024-11-26T14:56:15.745315Z",
     "start_time": "2024-11-26T14:56:15.731744Z"
    }
   },
   "cell_type": "code",
   "source": [
    "from sklearn.naive_bayes import MultinomialNB\n",
    "from sklearn.metrics import accuracy_score, confusion_matrix\n",
    "\n",
    "# Ініціалізуємо класифікатор\n",
    "nb_classifier = MultinomialNB()\n",
    "\n",
    "# Навчаємо модель\n",
    "nb_classifier.fit(X_train, y_train)\n",
    "\n",
    "# Прогнозуємо на тестовому наборі\n",
    "y_pred = nb_classifier.predict(X_test)\n",
    "\n",
    "# Оцінка точності\n",
    "accuracy = accuracy_score(y_test, y_pred)\n",
    "print(f'Accuracy: {accuracy * 100:.2f}%')\n",
    "\n",
    "# Матриця похибок\n",
    "cm = confusion_matrix(y_test, y_pred)\n",
    "print('Confusion Matrix:')\n",
    "print(cm)\n"
   ],
   "id": "9a83346b539eb98b",
   "outputs": [
    {
     "name": "stdout",
     "output_type": "stream",
     "text": [
      "Accuracy: 61.12%\n",
      "Confusion Matrix:\n",
      "[[264 241]\n",
      " [170 382]]\n"
     ]
    }
   ],
   "execution_count": 140
  },
  {
   "metadata": {},
   "cell_type": "markdown",
   "source": "5. Оцінка та аналіз моделі\n",
   "id": "2bea6e2282a5276f"
  },
  {
   "metadata": {
    "ExecuteTime": {
     "end_time": "2024-11-26T14:56:19.148918Z",
     "start_time": "2024-11-26T14:56:19.021066Z"
    }
   },
   "cell_type": "code",
   "source": [
    "import seaborn as sns\n",
    "import matplotlib.pyplot as plt\n",
    "\n",
    "# Візуалізуємо матрицю похибок\n",
    "sns.heatmap(cm, annot=True, fmt='d', cmap='Blues', xticklabels=['Negative', 'Positive'], yticklabels=['Negative', 'Positive'])\n",
    "plt.xlabel('Predicted')\n",
    "plt.ylabel('Actual')\n",
    "plt.title('Confusion Matrix')\n",
    "plt.show()\n",
    "\n",
    "\n"
   ],
   "id": "259c47ac4169804d",
   "outputs": [
    {
     "data": {
      "text/plain": [
       "<Figure size 640x480 with 2 Axes>"
      ],
      "image/png": "[encoded data removed]"
     },
     "metadata": {},
     "output_type": "display_data"
    }
   ],
   "execution_count": 141
  },
  {
   "metadata": {
    "ExecuteTime": {
     "end_time": "2024-11-26T14:56:21.621994Z",
     "start_time": "2024-11-26T14:56:21.610486Z"
    }
   },
   "cell_type": "code",
   "source": [
    "# Виводимо кілька прикладів передбачень\n",
    "num_examples = 10\n",
    "predictions = y_pred[:num_examples]\n",
    "true_labels = y_test[:num_examples]\n",
    "\n",
    "# Виводимо текст, реальні мітки та передбачення\n",
    "for i in range(num_examples):\n",
    "    print(f\"Example {i+1}:\")\n",
    "    print(f\"Description: {df['description'].iloc[i]}\")\n",
    "    print(f\"Actual label: {'Positive' if true_labels.iloc[i] == 1 else 'Negative'}\")\n",
    "    print(f\"Predicted label: {'Positive' if predictions[i] == 1 else 'Negative'}\")\n",
    "    print(\"-\" * 80)\n"
   ],
   "id": "5f81c3851aac1bd",
   "outputs": [
    {
     "name": "stdout",
     "output_type": "stream",
     "text": [
      "Example 1:\n",
      "Description: A mentally unstable Vietnam War veteran works as a night-time taxi driver in New York City where the perceived decadence and sleaze feed his urge for violent action, attempting to save a preadolescent prostitute in the process.\n",
      "Actual label: Negative\n",
      "Predicted label: Negative\n",
      "--------------------------------------------------------------------------------\n",
      "Example 2:\n",
      "Description: King Arthur, accompanied by his squire, recruits his Knights of the Round Table, including Sir Bedevere the Wise, Sir Lancelot the Brave, Sir Robin the Not-Quite-So-Brave-As-Sir-Lancelot and Sir Galahad the Pure. On the way, Arthur battles the Black Knight who, despite having had all his limbs chopped off, insists he can still fight. They reach Camelot, but Arthur decides not  to enter, as \"it is a silly place\".\n",
      "Actual label: Positive\n",
      "Predicted label: Positive\n",
      "--------------------------------------------------------------------------------\n",
      "Example 3:\n",
      "Description: Brian Cohen is an average young Jewish man, but through a series of ridiculous events, he gains a reputation as the Messiah. When he's not dodging his followers or being scolded by his shrill mother, the hapless Brian has to contend with the pompous Pontius Pilate and acronym-obsessed members of a separatist movement. Rife with Monty Python's signature absurdity, the tale finds Brian's life paralleling Biblical lore, albeit with many more laughs.\n",
      "Actual label: Positive\n",
      "Predicted label: Negative\n",
      "--------------------------------------------------------------------------------\n",
      "Example 4:\n",
      "Description: 12-year-old Regan MacNeil begins to adapt an explicit new personality as strange events befall the local area of Georgetown. Her mother becomes torn between science and superstition in a desperate bid to save her daughter, and ultimately turns to her last hope: Father Damien Karras, a troubled priest who is struggling with his own faith.\n",
      "Actual label: Positive\n",
      "Predicted label: Negative\n",
      "--------------------------------------------------------------------------------\n",
      "Example 5:\n",
      "Description: A British sketch comedy series with the shows being composed of surreality, risquÃ© or innuendo-laden humour, sight gags and observational sketches without punchlines.\n",
      "Actual label: Positive\n",
      "Predicted label: Negative\n",
      "--------------------------------------------------------------------------------\n",
      "Example 6:\n",
      "Description: When a madman dubbed 'Scorpio' terrorizes San Francisco, hard-nosed cop, Harry Callahan â€“ famous for his take-no-prisoners approach to law enforcement â€“ is tasked with hunting down the psychopath. Harry eventually collars Scorpio in the process of rescuing a kidnap victim, only to see him walk on technicalities. Now, the maverick detective is determined to nail the maniac himself.\n",
      "Actual label: Negative\n",
      "Predicted label: Negative\n",
      "--------------------------------------------------------------------------------\n",
      "Example 7:\n",
      "Description: A snobbish phonetics professor agrees to a wager that he can take a flower girl and make her presentable in high society.\n",
      "Actual label: Negative\n",
      "Predicted label: Negative\n",
      "--------------------------------------------------------------------------------\n",
      "Example 8:\n",
      "Description: Two small children and a ship's cook survive a shipwreck and find safety on an idyllic tropical island. Soon, however, the cook dies and the young boy and girl are left on their own. Days become years and Emmeline and Richard make a home for themselves surrounded by exotic creatures and nature's beauty. But will they ever see civilization again?\n",
      "Actual label: Positive\n",
      "Predicted label: Positive\n",
      "--------------------------------------------------------------------------------\n",
      "Example 9:\n",
      "Description: In the 1930s, bored waitress Bonnie Parker falls in love with an ex-con named Clyde Barrow and together they start a violent crime spree through the country, stealing cars and robbing banks.\n",
      "Actual label: Positive\n",
      "Predicted label: Positive\n",
      "--------------------------------------------------------------------------------\n",
      "Example 10:\n",
      "Description: An arrogant Texas millionaire hires four adventurers to rescue his kidnapped wife from a notorious Mexican bandit.\n",
      "Actual label: Positive\n",
      "Predicted label: Positive\n",
      "--------------------------------------------------------------------------------\n"
     ]
    }
   ],
   "execution_count": 142
  }
 ],
 "metadata": {
  "kernelspec": {
   "display_name": "Python 3",
   "language": "python",
   "name": "python3"
  },
  "language_info": {
   "codemirror_mode": {
    "name": "ipython",
    "version": 2
   },
   "file_extension": ".py",
   "mimetype": "text/x-python",
   "name": "python",
   "nbconvert_exporter": "python",
   "pygments_lexer": "ipython2",
   "version": "2.7.6"
  }
 },
 "nbformat": 4,
 "nbformat_minor": 5
}
