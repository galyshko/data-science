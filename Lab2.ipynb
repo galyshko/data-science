{
 "cells": [
  {
   "cell_type": "markdown",
   "metadata": {},
   "source": [
    "1. Numpy"
   ]
  },
  {
   "cell_type": "code",
   "execution_count": 41,
   "metadata": {},
   "outputs": [
    {
     "name": "stdout",
     "output_type": "stream",
     "text": [
      "Лінійні значення: [ 0  2  4  6  8 10 12 14 16 18]\n",
      "Випадкові числа: [0.94414967 0.00555003 0.33205549 0.29422775 0.38450829 0.97008325\n",
      " 0.96220146 0.66417589 0.41132694 0.24670641] \n",
      "\n",
      "1 елемент мисиву лінійних значень: 0\n",
      "1 елемент мисиву випадкових чисел: 0.9441496737528102 \n",
      "\n",
      "Лінійні значення(update): [ 7  2  4  6  8 10 12 14 16 18]\n",
      "Випадкові числа(update): [0.         0.00555003 0.33205549 0.29422775 0.38450829 0.97008325\n",
      " 0.96220146 0.66417589 0.41132694 0.24670641] \n",
      "\n",
      "Лінійні значення(delete): [ 2  4  6  8 10 12 14 16 18]\n",
      "Випадкові числа(delete): [0.00555003 0.33205549 0.29422775 0.38450829 0.97008325 0.96220146\n",
      " 0.66417589 0.41132694 0.24670641] \n",
      "\n"
     ]
    }
   ],
   "source": [
    "import numpy as np\n",
    "\n",
    "# Create\n",
    "\n",
    "# Лінійний масив значень\n",
    "linear_values = np.arange(0, 20, 2) \n",
    "\n",
    "# Випадкові числа\n",
    "random_values = np.random.random(10)  \n",
    "\n",
    "\n",
    "# Read\n",
    "print(\"Лінійні значення:\", linear_values)\n",
    "print(\"Випадкові числа:\", random_values, \"\\n\")\n",
    "\n",
    "print(\"1 елемент мисиву лінійних значень:\", linear_values[0])\n",
    "print(\"1 елемент мисиву випадкових чисел:\", random_values[0], \"\\n\")\n",
    "\n",
    "# Update\n",
    "\n",
    "linear_values[0] = 7\n",
    "random_values[0] = 0\n",
    "\n",
    "print(\"Лінійні значення(update):\", linear_values)\n",
    "print(\"Випадкові числа(update):\", random_values, \"\\n\")\n",
    "\n",
    "linear_values = np.delete(linear_values, 0)\n",
    "random_values = np.delete(random_values,0)\n",
    "\n",
    "print(\"Лінійні значення(delete):\", linear_values)\n",
    "print(\"Випадкові числа(delete):\", random_values, \"\\n\")"
   ]
  },
  {
   "cell_type": "markdown",
   "metadata": {},
   "source": [
    "2. Pandas"
   ]
  },
  {
   "cell_type": "code",
   "execution_count": 64,
   "metadata": {},
   "outputs": [
    {
     "name": "stdout",
     "output_type": "stream",
     "text": [
      "DataFrame з масивом:\n",
      "     Brand Place\n",
      "0    Audi     1\n",
      "1     Bmw     3\n",
      "2  Nissan     2\n",
      "3     Zaz     4 \n",
      "\n",
      "\n",
      "DataFrame  з словником:\n",
      "       Club  Players     City\n",
      "0    Dynamo       23     Kyiv\n",
      "1  Dnipro-1       30   Dnipro\n",
      "2  Shakhtar       25  Donetsk\n"
     ]
    }
   ],
   "source": [
    "import pandas as pd\n",
    "# Створення DataFrame з масивом\n",
    "data_array = np.array([[\"Audi\",1], [\"Bmw\",3], [\"Nissan\",2], [\"Zaz\",4]])\n",
    "df_array = pd.DataFrame(data_array, columns=[' Brand', 'Place'])\n",
    "print(\"DataFrame з масивом:\\n\", df_array, \"\\n\")\n",
    "\n",
    "# Створення DataFrame  з словником\n",
    "data_dict = {\n",
    "    'Club': ['Dynamo', 'Dnipro-1', 'Shakhtar'],\n",
    "    'Players': [23, 30, 25],\n",
    "    'City':[\"Kyiv\",\"Dnipro\",\"Donetsk\"]\n",
    "}\n",
    "df_dict = pd.DataFrame(data_dict)\n",
    "print(\"\\nDataFrame  з словником:\")\n",
    "print(df_dict)\n",
    "\n"
   ]
  },
  {
   "cell_type": "code",
   "execution_count": 73,
   "metadata": {},
   "outputs": [
    {
     "name": "stdout",
     "output_type": "stream",
     "text": [
      "Перші 2 рядки з DataFrame \n",
      "\n",
      "   Brand Place\n",
      "0   Audi     1\n",
      "1    Bmw     3 \n",
      "\n",
      "       Club  Players    City\n",
      "0    Dynamo       23    Kyiv\n",
      "1  Dnipro-1       30  Dnipro \n",
      "\n",
      "\n",
      "Деталі:\n",
      "         Players\n",
      "count   3.000000\n",
      "mean   26.000000\n",
      "std     3.605551\n",
      "min    23.000000\n",
      "25%    24.000000\n",
      "50%    25.000000\n",
      "75%    27.500000\n",
      "max    30.000000 \n",
      "\n",
      "        Brand Place\n",
      "count       4     4\n",
      "unique      4     4\n",
      "top      Audi     1\n",
      "freq        1     1\n"
     ]
    }
   ],
   "source": [
    "# Перші 2 рядки з DataFrame\n",
    "print(\"Перші 2 рядки з DataFrame \\n\")\n",
    "print(df_array.head(2),\"\\n\")\n",
    "print(df_dict.head(2),\"\\n\\n\")\n",
    "\n",
    "print(\"Деталі:\")\n",
    "print(df_dict.describe(),\"\\n\")\n",
    "print(df_array.describe())\n"
   ]
  },
  {
   "cell_type": "code",
   "execution_count": 93,
   "metadata": {},
   "outputs": [
    {
     "name": "stdout",
     "output_type": "stream",
     "text": [
      "Вибір другого рядка за індексом \n",
      "\n",
      " Brand    Bmw\n",
      "Place       3\n",
      "Name: 1, dtype: object \n",
      "\n",
      "Club       Dnipro-1\n",
      "Players          30\n",
      "City         Dnipro\n",
      "Name: 1, dtype: object \n",
      "\n",
      "\n",
      "Вибір даних за мітками індексів\n",
      "\n",
      "Місце зайняте командою з ID 0:  1\n",
      "Місто в якому базується команда з ID 0:  Kyiv\n"
     ]
    }
   ],
   "source": [
    "# Вибір другого рядка за індексом\n",
    "print(\"Вибір другого рядка за індексом \\n\")\n",
    "print(df_array.iloc[1],\"\\n\")\n",
    "print(df_dict.iloc[1],\"\\n\\n\")\n",
    "\n",
    "# Вибір даних за мітками індексів\n",
    "print(\"Вибір даних за мітками індексів\\n\")\n",
    "print(\"Місце зайняте командою з ID 0: \",df_array.loc[0,'Place'])\n",
    "print(\"Місто в якому базується команда з ID 0: \",df_dict.loc[0,'City'])\n"
   ]
  },
  {
   "cell_type": "code",
   "execution_count": 109,
   "metadata": {},
   "outputs": [
    {
     "name": "stdout",
     "output_type": "stream",
     "text": [
      "Оновлений DataFrame\n",
      "\n",
      "    Brand Place  Prizes\n",
      "0    Audi     1  100000\n",
      "1     Bmw     3   40000\n",
      "2  Nissan     2   75000\n",
      "3     Zaz     4   20000 \n",
      "\n",
      "\n",
      "Відфільтрований DataFrame\n",
      "\n",
      "     Brand Place  Prizes\n",
      "0    Audi     1  100000\n",
      "1     Bmw     3   40000\n",
      "2  Nissan     2   75000\n"
     ]
    }
   ],
   "source": [
    "df_array['Prizes'] = [100000,40000,75000,20000] #Додаємо новий стовпчик\n",
    "\n",
    "print(\"Оновлений DataFrame\\n\")\n",
    "print(df_array,\"\\n\\n\")\n",
    "\n",
    "#Фільтрація\n",
    "filtered_df_array = df_array[df_array['Prizes']>20000]\n",
    "print(\"Відфільтрований DataFrame\\n\\n\",filtered_df_array)"
   ]
  },
  {
   "cell_type": "markdown",
   "metadata": {},
   "source": [
    "3.Matplotlib"
   ]
  },
  {
   "cell_type": "code",
   "execution_count": 145,
   "metadata": {},
   "outputs": [
    {
     "data": {
      "image/png": "[encoded data removed]",
      "text/plain": [
       "<Figure size 640x480 with 1 Axes>"
      ]
     },
     "metadata": {},
     "output_type": "display_data"
    },
    {
     "name": "stdout",
     "output_type": "stream",
     "text": [
      "MAE: 0.7185250984934133\n",
      "MSE: 0.7816477216005407\n"
     ]
    }
   ],
   "source": [
    "import numpy as np\n",
    "import matplotlib.pyplot as plt\n",
    "\n",
    "# Генерація даних\n",
    "x = np.linspace(0, 10, 100)  # 100 точок від 0 до 10\n",
    "y_true=3*x+2\n",
    "noise = np.random.normal(0, 1, x.shape)  # Помилки вимірювань\n",
    "# Лінійна функція з помилками\n",
    "y = y_true+noise\n",
    "\n",
    "# Створення графіка\n",
    "plt.plot(x, y_true, label='True Line', color='blue')\n",
    "plt.scatter(x, y, color='red', s=10, label='Noisy Data')\n",
    "plt.xlabel('X')\n",
    "plt.ylabel('Y')\n",
    "plt.title('Лінійна функція з помилками вимірювань')\n",
    "plt.legend()\n",
    "plt.show()\n",
    "\n",
    "# Обчислення метрик похибок\n",
    "mae = np.mean(np.abs(y_true-y))\n",
    "mse = np.mean((y_true-y)**2)\n",
    "\n",
    "print(f'MAE: {mae}')\n",
    "print(f'MSE: {mse}')\n",
    "\n",
    "#Записуємо результати у CSV файл\n",
    "results = pd.DataFrame({\n",
    "    'Metric': ['MAE', 'MSE'],\n",
    "    'Value': [mae, mse]\n",
    "})\n",
    "results.to_csv('error_metrics.csv', index=False)\n"
   ]
  }
 ],
 "metadata": {
  "kernelspec": {
   "display_name": "Python 3",
   "language": "python",
   "name": "python3"
  },
  "language_info": {
   "codemirror_mode": {
    "name": "ipython",
    "version": 3
   },
   "file_extension": ".py",
   "mimetype": "text/x-python",
   "name": "python",
   "nbconvert_exporter": "python",
   "pygments_lexer": "ipython3",
   "version": "3.12.6"
  }
 },
 "nbformat": 4,
 "nbformat_minor": 2
}
